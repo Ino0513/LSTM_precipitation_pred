{
 "cells": [
  {
   "cell_type": "code",
   "execution_count": 15,
   "metadata": {},
   "outputs": [],
   "source": [
    "import import_ipynb\n",
    "import numpy as np\n",
    "import pandas as pd\n",
    "import os\n",
    "import my_method as mm\n",
    "\n",
    "from my_method import make_seq_list\n",
    "\n",
    "seq_len = 48\n",
    "pred_time = 3"
   ]
  },
  {
   "cell_type": "code",
   "execution_count": 16,
   "metadata": {},
   "outputs": [],
   "source": [
    "scaled_train_ASOS = np.load('make_data/scaled_train_ASOS.npy')\n",
    "scaled_test1_ASOS = np.load('make_data/scaled_test1_ASOS.npy')\n",
    "scaled_test2_ASOS = np.load('make_data/scaled_test2_ASOS.npy')\n",
    "scaled_test3_ASOS = np.load('make_data/scaled_test3_ASOS.npy')\n",
    "\n",
    "scaled_train_add_AWS = np.load('make_data/scaled_train_add_AWS.npy')\n",
    "scaled_test1_add_AWS = np.load('make_data/scaled_test1_add_AWS.npy')\n",
    "scaled_test2_add_AWS = np.load('make_data/scaled_test2_add_AWS.npy')\n",
    "scaled_test3_add_AWS = np.load('make_data/scaled_test3_add_AWS.npy')"
   ]
  },
  {
   "cell_type": "code",
   "execution_count": 17,
   "metadata": {},
   "outputs": [],
   "source": [
    "seq_train_target = np.load('make_data/train_target.npy')\n",
    "test1_target = np.load('make_data/test1_target.npy')\n",
    "test2_target = np.load('make_data/test2_target.npy')\n",
    "test3_target = np.load('make_data/test3_target.npy')"
   ]
  },
  {
   "cell_type": "code",
   "execution_count": 18,
   "metadata": {},
   "outputs": [
    {
     "name": "stdout",
     "output_type": "stream",
     "text": [
      "4416\n"
     ]
    }
   ],
   "source": [
    "dis = int(len(scaled_train_ASOS)/19)\n",
    "print(dis)"
   ]
  },
  {
   "cell_type": "code",
   "execution_count": 19,
   "metadata": {},
   "outputs": [],
   "source": [
    "def sep_data(data):\n",
    "    return_list = []\n",
    "    for i in range(19):\n",
    "        return_list.append(data[dis*i : dis*(i + 1)])\n",
    "\n",
    "    return return_list\n",
    "\n",
    "train_list_ASOS = sep_data(scaled_train_ASOS)\n",
    "train_list_add_AWS = sep_data(scaled_train_add_AWS)\n",
    "train_target_list = sep_data(seq_train_target)"
   ]
  },
  {
   "cell_type": "code",
   "execution_count": 20,
   "metadata": {},
   "outputs": [],
   "source": [
    "test_list_ASOS = []\n",
    "test_list_ASOS.append(scaled_test1_ASOS)\n",
    "test_list_ASOS.append(scaled_test2_ASOS)\n",
    "test_list_ASOS.append(scaled_test3_ASOS)\n",
    "\n",
    "test_list_add_AWS = []\n",
    "test_list_add_AWS.append(scaled_test1_add_AWS)\n",
    "test_list_add_AWS.append(scaled_test2_add_AWS)\n",
    "test_list_add_AWS.append(scaled_test3_add_AWS)\n",
    "\n",
    "test_target_list = []\n",
    "test_target_list.append(test1_target)\n",
    "test_target_list.append(test2_target)\n",
    "test_target_list.append(test3_target)"
   ]
  },
  {
   "cell_type": "code",
   "execution_count": 21,
   "metadata": {},
   "outputs": [],
   "source": [
    "# sequnce data\n",
    "\n",
    "seq_list_ASOS = make_seq_list(train_list_ASOS, train_target_list, seq_len, pred_time, 19)\n",
    "seq_list_add_AWS = make_seq_list(train_list_add_AWS, train_target_list, seq_len, pred_time, 19)\n",
    "\n",
    "seq_list_test_ASOS = make_seq_list(test_list_ASOS, test_target_list, seq_len, pred_time, 3)\n",
    "seq_list_test_add_AWS = make_seq_list(test_list_add_AWS, test_target_list, seq_len, pred_time, 3)"
   ]
  },
  {
   "cell_type": "code",
   "execution_count": 22,
   "metadata": {},
   "outputs": [
    {
     "name": "stdout",
     "output_type": "stream",
     "text": [
      "(4366, 48, 16)\n",
      "(4366, 48, 44)\n",
      "(4366, 48, 16)\n",
      "(4366, 48, 44)\n"
     ]
    }
   ],
   "source": [
    "#print(seq_list_ASOS[18][0][:3])\n",
    "print(seq_list_ASOS[18][0].shape)\n",
    "print(seq_list_add_AWS[18][0].shape)\n",
    "\n",
    "print(seq_list_test_ASOS[2][0].shape)\n",
    "print(seq_list_test_add_AWS[2][0].shape)"
   ]
  },
  {
   "cell_type": "code",
   "execution_count": 23,
   "metadata": {},
   "outputs": [],
   "source": [
    "# seq_train set\n",
    "\n",
    "seq_data_ASOS = seq_list_ASOS[0][0]\n",
    "seq_data_add_AWS = seq_list_add_AWS[0][0]\n",
    "seq_train_target = seq_list_ASOS[0][1]\n",
    "\n",
    "for i in range(18):\n",
    "    seq_data_ASOS = np.concatenate((seq_data_ASOS, seq_list_ASOS[i + 1][0]), axis = 0)\n",
    "    seq_data_add_AWS = np.concatenate((seq_data_add_AWS, seq_list_add_AWS[i + 1][0]), axis = 0)\n",
    "    seq_train_target = np.concatenate((seq_train_target, seq_list_ASOS[i + 1][1]))"
   ]
  },
  {
   "cell_type": "code",
   "execution_count": 24,
   "metadata": {},
   "outputs": [],
   "source": [
    "# # seq test set\n",
    "\n",
    "# seq_data_test_ASOS = seq_list_test_ASOS[0][0]\n",
    "# seq_data_test_add_AWS = seq_list_test_add_AWS[0][0]\n",
    "# test_target = seq_list_test_ASOS[0][1]\n",
    "\n",
    "# for i in range(2):\n",
    "#     seq_data_test_ASOS = np.concatenate((seq_data_test_ASOS, seq_list_test_ASOS[i+1][0]), axis = 0)\n",
    "#     seq_data_test_add_AWS = np.concatenate((seq_data_test_add_AWS, seq_list_test_add_AWS[i+1][0]), axis = 0)\n",
    "#     test_target = np.concatenate((test_target, seq_list_test_ASOS[i + 1][1]))"
   ]
  },
  {
   "cell_type": "code",
   "execution_count": 25,
   "metadata": {},
   "outputs": [
    {
     "name": "stdout",
     "output_type": "stream",
     "text": [
      "(82954, 48, 16)\n",
      "(82954, 48, 44)\n",
      "(82954,) \n",
      "\n"
     ]
    }
   ],
   "source": [
    "print(seq_data_ASOS.shape)\n",
    "print(seq_data_add_AWS.shape)\n",
    "print(seq_train_target.shape, '\\n')\n",
    "\n",
    "#print(seq_data_test_ASOS.shape)\n",
    "#print(seq_data_test_add_AWS.shape)\n",
    "#print(test_target.shape)"
   ]
  },
  {
   "cell_type": "code",
   "execution_count": 26,
   "metadata": {},
   "outputs": [
    {
     "name": "stdout",
     "output_type": "stream",
     "text": [
      "(4366, 48, 16)\n",
      "(4366, 48, 44)\n",
      "(4366,)\n"
     ]
    }
   ],
   "source": [
    "print(seq_list_test_ASOS[0][0].shape)\n",
    "print(seq_list_test_add_AWS[0][0].shape)\n",
    "print(seq_list_test_ASOS[0][1].shape)"
   ]
  },
  {
   "cell_type": "code",
   "execution_count": 27,
   "metadata": {},
   "outputs": [],
   "source": [
    "# seq_test set\n",
    "\n",
    "seq_test1_ASOS = seq_list_test_ASOS[0][0]\n",
    "seq_test2_ASOS = seq_list_test_ASOS[1][0]\n",
    "seq_test3_ASOS = seq_list_test_ASOS[2][0]\n",
    "\n",
    "seq_test1_add_AWS = seq_list_test_add_AWS[0][0]\n",
    "seq_test2_add_AWS = seq_list_test_add_AWS[1][0]\n",
    "seq_test3_add_AWS = seq_list_test_add_AWS[2][0]\n",
    "\n",
    "seq_test1_target = seq_list_test_ASOS[0][1]\n",
    "seq_test2_target = seq_list_test_ASOS[1][1]\n",
    "seq_test3_target = seq_list_test_ASOS[2][1]"
   ]
  },
  {
   "cell_type": "code",
   "execution_count": 28,
   "metadata": {},
   "outputs": [],
   "source": [
    "# save\n",
    "\n",
    "np.save('seq_data/seq_train1_ASOS', seq_data_ASOS)\n",
    "np.save('seq_data/seq_test20_ASOS', seq_test1_ASOS)\n",
    "np.save('seq_data/seq_test21_ASOS', seq_test2_ASOS)\n",
    "np.save('seq_data/seq_test22_ASOS', seq_test3_ASOS)\n",
    "\n",
    "np.save('seq_data/seq_train1_add_AWS', seq_data_add_AWS)\n",
    "np.save('seq_data/seq_test20_add_AWS', seq_test1_add_AWS)\n",
    "np.save('seq_data/seq_test21_add_AWS', seq_test2_add_AWS)\n",
    "np.save('seq_data/seq_test22_add_AWS', seq_test3_add_AWS)\n",
    "\n",
    "np.save('seq_data/seq_train1_target',  seq_train_target)\n",
    "np.save('seq_data/seq_test20_target', seq_test1_target)\n",
    "np.save('seq_data/seq_test21_target', seq_test2_target)\n",
    "np.save('seq_data/seq_test22_target', seq_test3_target)"
   ]
  }
 ],
 "metadata": {
  "kernelspec": {
   "display_name": "my_env1",
   "language": "python",
   "name": "python3"
  },
  "language_info": {
   "codemirror_mode": {
    "name": "ipython",
    "version": 3
   },
   "file_extension": ".py",
   "mimetype": "text/x-python",
   "name": "python",
   "nbconvert_exporter": "python",
   "pygments_lexer": "ipython3",
   "version": "3.10.13"
  }
 },
 "nbformat": 4,
 "nbformat_minor": 2
}
