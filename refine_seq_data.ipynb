{
 "cells": [
  {
   "cell_type": "code",
   "execution_count": 1,
   "metadata": {},
   "outputs": [],
   "source": [
    "import numpy as np\n",
    "import pandas as pd\n",
    "import random\n",
    "\n",
    "seq_len = 48\n",
    "pred_time = 1"
   ]
  },
  {
   "cell_type": "code",
   "execution_count": 2,
   "metadata": {},
   "outputs": [],
   "source": [
    "# train data\n",
    "seq_data_ASOS = np.load('seq_data/seq_train1_ASOS.npy')\n",
    "seq_data_add_AWS = np.load('seq_data/seq_train1_add_AWS.npy')\n",
    "\n",
    "# train target\n",
    "seq_train_target = np.load('seq_data/seq_train1_target.npy')"
   ]
  },
  {
   "cell_type": "code",
   "execution_count": 3,
   "metadata": {},
   "outputs": [
    {
     "name": "stdout",
     "output_type": "stream",
     "text": [
      "75764 7190\n"
     ]
    }
   ],
   "source": [
    "def find_zero_pos_index(target_data):\n",
    "    zero = []\n",
    "    pos = []\n",
    "\n",
    "    for index in range(len(target_data)):\n",
    "        if ( target_data[index] == 0):\n",
    "            zero.append(index)\n",
    "        else:\n",
    "            pos.append(index)\n",
    "\n",
    "    return zero, pos\n",
    "\n",
    "zero_index, pos_index = find_zero_pos_index(seq_train_target)\n",
    "print(len(zero_index), len(pos_index))"
   ]
  },
  {
   "cell_type": "code",
   "execution_count": 4,
   "metadata": {},
   "outputs": [],
   "source": [
    "random.seed(50)\n",
    "random_zero_list = random.sample(zero_index, 7194*4)\n",
    "random_zero_list.sort()\n",
    "\n",
    "choice_list = random_zero_list + pos_index\n",
    "choice_list.sort()\n",
    "\n",
    "refined_seq_data_ASOS = seq_data_ASOS[choice_list]\n",
    "refined_seq_data_add_AWS = seq_data_add_AWS[choice_list]\n",
    "refined_train_target = seq_train_target[choice_list]"
   ]
  },
  {
   "cell_type": "code",
   "execution_count": 5,
   "metadata": {},
   "outputs": [],
   "source": [
    "np.save('seq_data/refined_seq_data_ASOS', refined_seq_data_ASOS)\n",
    "np.save('seq_data/refined_seq_data_add_AWS', refined_seq_data_add_AWS)\n",
    "np.save('seq_data/refined_train_target', refined_train_target)"
   ]
  }
 ],
 "metadata": {
  "kernelspec": {
   "display_name": "my_env1",
   "language": "python",
   "name": "python3"
  },
  "language_info": {
   "codemirror_mode": {
    "name": "ipython",
    "version": 3
   },
   "file_extension": ".py",
   "mimetype": "text/x-python",
   "name": "python",
   "nbconvert_exporter": "python",
   "pygments_lexer": "ipython3",
   "version": "3.10.13"
  }
 },
 "nbformat": 4,
 "nbformat_minor": 2
}
