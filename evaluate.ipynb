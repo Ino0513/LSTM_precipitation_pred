{
 "cells": [
  {
   "cell_type": "code",
   "execution_count": 59,
   "metadata": {},
   "outputs": [],
   "source": [
    "import matplotlib.pyplot as plt\n",
    "import numpy as np\n",
    "import pandas as pd\n",
    "import math\n",
    "import os\n",
    "\n",
    "from pickle import load"
   ]
  },
  {
   "cell_type": "code",
   "execution_count": 60,
   "metadata": {},
   "outputs": [
    {
     "name": "stdout",
     "output_type": "stream",
     "text": [
      "[   10   100  1000 10000]\n"
     ]
    }
   ],
   "source": [
    "a = [1,2,3,4]\n",
    "b = np.power(10, a)\n",
    "print(b)"
   ]
  },
  {
   "cell_type": "code",
   "execution_count": 61,
   "metadata": {},
   "outputs": [],
   "source": [
    "#ASOS model pred\n",
    "pred_test_target1_ASOS = np.load('modeling_data/ASOS_pred_test1.npy')\n",
    "pred_test_target2_ASOS = np.load('modeling_data/ASOS_pred_test2.npy')\n",
    "pred_test_target3_ASOS = np.load('modeling_data/ASOS_pred_test3.npy')\n",
    "\n",
    "# AWS model pred\n",
    "pred_test_target1_AWS = np.load('modeling_data/AWS_pred_test1.npy')\n",
    "pred_test_target2_AWS = np.load('modeling_data/AWS_pred_test2.npy')\n",
    "pred_test_target3_AWS = np.load('modeling_data/AWS_pred_test3.npy')\n",
    "\n",
    "# Parallel model pred\n",
    "pred_test_target1_P = np.load('modeling_data/P_pred_test1.npy')\n",
    "pred_test_target2_P = np.load('modeling_data/P_pred_test2.npy')\n",
    "pred_test_target3_P = np.load('modeling_data/P_pred_test3.npy')\n",
    "\n",
    "# if model pred\n",
    "pred_test_target1_if = np.load('modeling_data/pred_test1_if.npy')\n",
    "pred_test_target2_if = np.load('modeling_data/pred_test2_if.npy')\n",
    "pred_test_target3_if = np.load('modeling_data/pred_test3_if.npy')\n",
    "\n",
    "# obsv target\n",
    "obsv_test_target1_P = np.load('modeling_data/obsv_test_target1_P.npy')\n",
    "obsv_test_target2_P = np.load('modeling_data/obsv_test_target2_P.npy')\n",
    "obsv_test_target3_P = np.load('modeling_data/obsv_test_target3_P.npy')"
   ]
  },
  {
   "cell_type": "code",
   "execution_count": 62,
   "metadata": {},
   "outputs": [
    {
     "name": "stdout",
     "output_type": "stream",
     "text": [
      "(4368,) (4368, 1)\n",
      "(4368,) (4368, 1)\n",
      "(4368,) (4368, 1)\n"
     ]
    }
   ],
   "source": [
    "print(obsv_test_target1_P.shape, pred_test_target1_P.shape)\n",
    "print(obsv_test_target2_P.shape, pred_test_target2_P.shape)\n",
    "print(obsv_test_target3_P.shape, pred_test_target3_P.shape)"
   ]
  },
  {
   "cell_type": "code",
   "execution_count": 63,
   "metadata": {},
   "outputs": [
    {
     "name": "stdout",
     "output_type": "stream",
     "text": [
      "4369\n",
      "4368\n"
     ]
    }
   ],
   "source": [
    "obsv_test_target1_P = np.insert(obsv_test_target1_P, 0, 0)\n",
    "obsv_test_target2_P = np.insert(obsv_test_target2_P, 0, 0)\n",
    "obsv_test_target3_P = np.insert(obsv_test_target3_P, 0, 0)\n",
    "\n",
    "print(len(obsv_test_target1_P))\n",
    "\n",
    "obsv_test_target1_P = np.delete(obsv_test_target1_P, 4368)\n",
    "obsv_test_target2_P = np.delete(obsv_test_target2_P, 4368)\n",
    "obsv_test_target3_P = np.delete(obsv_test_target3_P, 4368)\n",
    "\n",
    "print(len(obsv_test_target1_P))"
   ]
  },
  {
   "cell_type": "code",
   "execution_count": 64,
   "metadata": {},
   "outputs": [],
   "source": [
    "pred_test_target1_ASOS = pred_test_target1_ASOS.reshape(1, -1)\n",
    "pred_test_target2_ASOS = pred_test_target2_ASOS.reshape(1, -1)\n",
    "pred_test_target3_ASOS = pred_test_target3_ASOS.reshape(1, -1)\n",
    "\n",
    "pred_test_target1_AWS = pred_test_target1_AWS.reshape(1, -1)\n",
    "pred_test_target2_AWS = pred_test_target2_AWS.reshape(1, -1)\n",
    "pred_test_target3_AWS = pred_test_target3_AWS.reshape(1, -1)\n",
    "\n",
    "pred_test_target1_P = pred_test_target1_P.reshape(1, -1)\n",
    "pred_test_target2_P = pred_test_target2_P.reshape(1, -1)\n",
    "pred_test_target3_P = pred_test_target3_P.reshape(1, -1)\n",
    "\n",
    "pred_test_target1_if = pred_test_target1_if.reshape(1, -1)\n",
    "pred_test_target2_if = pred_test_target2_if.reshape(1, -1)\n",
    "pred_test_target3_if = pred_test_target3_if.reshape(1, -1)"
   ]
  },
  {
   "cell_type": "code",
   "execution_count": 65,
   "metadata": {},
   "outputs": [
    {
     "name": "stdout",
     "output_type": "stream",
     "text": [
      "(4368,) (1, 4368)\n",
      "(4368,) (1, 4368)\n",
      "(4368,) (1, 4368)\n"
     ]
    }
   ],
   "source": [
    "print(obsv_test_target1_P.shape, pred_test_target1_P.shape)\n",
    "print(obsv_test_target2_P.shape, pred_test_target2_P.shape)\n",
    "print(obsv_test_target3_P.shape, pred_test_target3_P.shape)"
   ]
  },
  {
   "cell_type": "code",
   "execution_count": 66,
   "metadata": {},
   "outputs": [
    {
     "name": "stdout",
     "output_type": "stream",
     "text": [
      "[0.19157995 0.21339953 0.20073637 ... 0.10240989 0.1592069  0.12086067]\n",
      "[-4.5368215e-05 -6.5242639e-05 -7.7405712e-05 ...  5.7722978e-02\n",
      "  1.1125851e+00  3.1008968e-02]\n",
      "[-9.5532974e-05 -9.6797710e-05 -9.4476854e-05 ... -1.0035259e-03\n",
      " -1.1455489e-03 -1.2173445e-03]\n"
     ]
    }
   ],
   "source": [
    "print(pred_test_target1_P[0])\n",
    "print(pred_test_target2_P[0])\n",
    "print(pred_test_target3_P[0])"
   ]
  },
  {
   "cell_type": "code",
   "execution_count": 67,
   "metadata": {},
   "outputs": [],
   "source": [
    "# print('p_mae  z_mae  p_acc  z_acc  acc')\n",
    "\n",
    "# p_mae, z_mae, p_acc, z_acc, acc = p_z_metric(obsv_test_target1_P, pred_test_target1_P[0])\n",
    "# print(round(p_mae, 4), round(z_mae, 4), round(p_acc, 4), round(z_acc, 4), round(acc, 4) )\n",
    "# p_mae, z_mae, p_acc, z_acc, acc = p_z_metric(obsv_test_target2_P, pred_test_target2_P[0])\n",
    "# print(round(p_mae, 4), round(z_mae, 4), round(p_acc, 4), round(z_acc, 4), round(acc, 4) )\n",
    "# p_mae, z_mae, p_acc, z_acc, acc = p_z_metric(obsv_test_target3_P, pred_test_target3_P[0])\n",
    "# print(round(p_mae, 4), round(z_mae, 4), round(p_acc, 4), round(z_acc, 4), round(acc, 4) )"
   ]
  },
  {
   "cell_type": "code",
   "execution_count": 68,
   "metadata": {},
   "outputs": [],
   "source": [
    "obsv_t1 = np.power(math.exp(1), obsv_test_target1_P) - 1\n",
    "obsv_t2 = np.power(math.exp(1), obsv_test_target2_P) - 1\n",
    "obsv_t3 = np.power(math.exp(1), obsv_test_target3_P) - 1\n",
    "\n",
    "pred_ASOS1 = np.power(math.exp(1), pred_test_target1_ASOS[0]) - 1\n",
    "pred_ASOS2 = np.power(math.exp(1), pred_test_target2_ASOS[0]) - 1\n",
    "pred_ASOS3 = np.power(math.exp(1), pred_test_target3_ASOS[0]) - 1\n",
    "\n",
    "pred_AWS1 = np.power(math.exp(1), pred_test_target1_AWS[0]) - 1\n",
    "pred_AWS2 = np.power(math.exp(1), pred_test_target2_AWS[0]) - 1\n",
    "pred_AWS3 = np.power(math.exp(1), pred_test_target3_AWS[0]) - 1\n",
    "\n",
    "pred_P1 = np.power(math.exp(1), pred_test_target1_P[0]) - 1\n",
    "pred_P2 = np.power(math.exp(1), pred_test_target2_P[0]) - 1\n",
    "pred_P3 = np.power(math.exp(1), pred_test_target3_P[0]) - 1\n",
    "\n",
    "pred_if1 = np.power(math.exp(1), pred_test_target1_if[0]) - 1\n",
    "pred_if2 = np.power(math.exp(1), pred_test_target2_if[0]) - 1\n",
    "pred_if3 = np.power(math.exp(1), pred_test_target3_if[0]) - 1"
   ]
  },
  {
   "cell_type": "code",
   "execution_count": 69,
   "metadata": {},
   "outputs": [],
   "source": [
    "def p_z_metric(y_true, y_pred):    \n",
    "    # 비가 온 경우의 mae\n",
    "    p_mae = 0\n",
    "    pos_mae_list = []\n",
    "\n",
    "    # 비가 오지 않은 경우의 mae\n",
    "    z_mae = 0\n",
    "    zero_mae_list = []\n",
    "\n",
    "    # 비가 온 경우의 acc\n",
    "    p_acc = 0\n",
    "    p_true_list = []\n",
    "    p_false_list = []\n",
    "    \n",
    "    # 비가 오지 않은 경우의 acc\n",
    "    z_acc = 0\n",
    "    z_true_list = []\n",
    "    z_false_list = []\n",
    "    \n",
    "\n",
    "    for index in range(len(y_true)):\n",
    "        if(y_true[index] == 0): # 비가 안온 경우\n",
    "            zero_mae_list.append(abs(y_true[index] - y_pred[index]))\n",
    "\n",
    "            if(y_pred[index] < 0.17):\n",
    "                z_true_list.append(y_pred[index])\n",
    "            else:\n",
    "                z_false_list.append(y_pred[index])\n",
    "            pass\n",
    "        else: # 비가 온 경우\n",
    "            pos_mae_list.append(abs(y_true[index] - y_pred[index]))\n",
    "\n",
    "            if(y_pred[index] < 0.17):\n",
    "                p_false_list.append(y_pred[index])\n",
    "                pass\n",
    "            elif(y_pred[index] >= 0.17):\n",
    "                p_true_list.append(y_pred[index])\n",
    "                pass\n",
    "            else:\n",
    "                pass\n",
    "            pass\n",
    "        pass\n",
    "\n",
    "    # mae\n",
    "    p_mae = sum((pos_mae_list))/len(pos_mae_list)\n",
    "    z_mae = sum((zero_mae_list))/len(zero_mae_list)\n",
    "\n",
    "    #acc\n",
    "    p_acc = len(p_true_list)/(len(p_true_list) + len(p_false_list))\n",
    "    z_acc = len(z_true_list)/(len(z_true_list) + len(z_false_list))\n",
    "    acc = (len(p_true_list)+ len(z_true_list))/(len(p_true_list) + len(p_false_list) + len(z_true_list) + len(z_false_list))\n",
    "\n",
    "    return p_mae, z_mae, p_acc, z_acc, acc"
   ]
  },
  {
   "cell_type": "code",
   "execution_count": 70,
   "metadata": {},
   "outputs": [
    {
     "name": "stdout",
     "output_type": "stream",
     "text": [
      "p_mae  z_mae  p_acc  z_acc  acc\n",
      "1.1967 0.0045 0.8415 0.9938 0.9784\n",
      "\n",
      "1.5993 0.0901 0.9908 0.7815 0.803\n",
      "\n",
      "1.1243 0.051 0.9818 0.9001 0.9085\n",
      "\n"
     ]
    }
   ],
   "source": [
    "print('p_mae  z_mae  p_acc  z_acc  acc')\n",
    "\n",
    "# ASOS\n",
    "p_mae1, z_mae1, p_acc1, z_acc1, acc1 = p_z_metric(obsv_t1, pred_ASOS1)\n",
    "p_mae2, z_mae2, p_acc2, z_acc2, acc2 = p_z_metric(obsv_t2, pred_ASOS    2)\n",
    "p_mae3, z_mae3, p_acc3, z_acc3, acc3 = p_z_metric(obsv_t3, pred_ASOS3)\n",
    "print(round((p_mae1 + p_mae2 + p_mae3)/3, 4),\n",
    "      round((z_mae1 + z_mae2 + z_mae3)/3, 4),\n",
    "      round((p_acc1 + p_acc2 + p_acc3)/3, 4),\n",
    "      round((z_acc1 + z_acc2 + z_acc3)/3, 4),\n",
    "      round((acc1 + acc2 + acc3)/3, 4))\n",
    "print('')\n",
    "\n",
    "# AWS\n",
    "p_mae1, z_mae1, p_acc1, z_acc1, acc1 = p_z_metric(obsv_t1, pred_AWS1)\n",
    "p_mae2, z_mae2, p_acc2, z_acc2, acc2 = p_z_metric(obsv_t2, pred_AWS2)\n",
    "p_mae3, z_mae3, p_acc3, z_acc3, acc3 = p_z_metric(obsv_t3, pred_AWS3)\n",
    "print(round((p_mae1 + p_mae2 + p_mae3)/3, 4),\n",
    "      round((z_mae1 + z_mae2 + z_mae3)/3, 4),\n",
    "      round((p_acc1 + p_acc2 + p_acc3)/3, 4),\n",
    "      round((z_acc1 + z_acc2 + z_acc3)/3, 4),\n",
    "      round((acc1 + acc2 + acc3)/3, 4))\n",
    "print('')\n",
    "\n",
    "# Parallel\n",
    "p_mae1, z_mae1, p_acc1, z_acc1, acc1 = p_z_metric(obsv_t1, pred_P1)\n",
    "p_mae2, z_mae2, p_acc2, z_acc2, acc2 = p_z_metric(obsv_t2, pred_P2)\n",
    "p_mae3, z_mae3, p_acc3, z_acc3, acc3 = p_z_metric(obsv_t3, pred_P3)\n",
    "print(round((p_mae1 + p_mae2 + p_mae3)/3, 4),\n",
    "      round((z_mae1 + z_mae2 + z_mae3)/3, 4),\n",
    "      round((p_acc1 + p_acc2 + p_acc3)/3, 4),\n",
    "      round((z_acc1 + z_acc2 + z_acc3)/3, 4),\n",
    "      round((acc1 + acc2 + acc3)/3, 4))\n",
    "print('')"
   ]
  }
 ],
 "metadata": {
  "kernelspec": {
   "display_name": "my_env1",
   "language": "python",
   "name": "python3"
  },
  "language_info": {
   "codemirror_mode": {
    "name": "ipython",
    "version": 3
   },
   "file_extension": ".py",
   "mimetype": "text/x-python",
   "name": "python",
   "nbconvert_exporter": "python",
   "pygments_lexer": "ipython3",
   "version": "3.10.13"
  }
 },
 "nbformat": 4,
 "nbformat_minor": 2
}
